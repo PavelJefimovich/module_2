{
 "cells": [
  {
   "cell_type": "markdown",
   "metadata": {
    "id": "MMg4R2lp-u7l"
   },
   "source": [
    "## A/B - тестирование\n",
    "\n",
    "\n",
    "Внутри увидите пример как формируются результаты по аб-тестированию. Прочтите сначала его, затем приступайте к выполнению задания.\n",
    "\n",
    "В папке присутствует файл ab_test_ensembles.csv , который содержит реальные данные ab теста, когда-то проходившего у меня. Вам необходимо провести стандартный пайплайн, начав с ознакомления данных до вывода отчета. Условие гипотезы такое же как и в примере, нам необходимо нашим новым вариантом увеличить коэффициент конверсии на 2%, коэффициенты конверсии одинаковы с файлом из примера (плюс/минус) поэтому с этим проблем быть не должно. Условия гипотез теже.\n",
    "\n",
    "В A/B тесте было два варианта работы сервиса - standard и svm_ensemble_v_1_22, где работала модель классификации пользователей.\n",
    "\n",
    "Ответьте на 2 вопроса:\n",
    "\n",
    "1. Стоит ли нам оставить старый вариант работы или заменить на вариант svm_ensemble_v_1_22 (используем всю выборку 200к+ записей)\n",
    "2. Так же посчитайте вывод для типа пользователей (user_type) стоит ли для новых/старых пользователей (new/registered user) оставить старый / новый вариант работы (разделяем всю выборку 200к+ записей на группы)\n",
    "\n",
    "Также необходимо провести небольшое EDA по представленному датасету, нарисовать два графика на ваш вкус.\n",
    "\n",
    "---\n",
    "\n",
    "**Баллы могут быть снижены** за качество кода - старайтесь чтобы код был максимально лаконичным. Названия переменных (если они используются) должны отражать максимальную ее сущность.\n",
    "\n",
    "**Комментарии по сдаче практического задания**:\n",
    "1. Залить в репу на github в папку module_2/ab_test_inference\n",
    "2. Ссылку на репо отправлять мне на почту alexadevv@gmail.com не позднее дедлайна.\n",
    "3. Тема письма: Домашнее задание по модулю 2 <Фамилия Имя>\n",
    "4. После дедлайна, неотправленные на почту задания, оцениваются максимум в 7 баллов."
   ]
  },
  {
   "cell_type": "code",
   "execution_count": 2,
   "metadata": {
    "id": "JQJeO58Q-8fc"
   },
   "outputs": [
    {
     "name": "stdout",
     "output_type": "stream",
     "text": [
      "Для каждой группы нам необходимо не меньше  4720  наблюдений\n"
     ]
    },
    {
     "data": {
      "text/html": [
       "<div>\n",
       "<style scoped>\n",
       "    .dataframe tbody tr th:only-of-type {\n",
       "        vertical-align: middle;\n",
       "    }\n",
       "\n",
       "    .dataframe tbody tr th {\n",
       "        vertical-align: top;\n",
       "    }\n",
       "\n",
       "    .dataframe thead th {\n",
       "        text-align: right;\n",
       "    }\n",
       "</style>\n",
       "<table border=\"1\" class=\"dataframe\">\n",
       "  <thead>\n",
       "    <tr style=\"text-align: right;\">\n",
       "      <th></th>\n",
       "      <th>user_id</th>\n",
       "      <th>timestamp</th>\n",
       "      <th>group</th>\n",
       "      <th>variants</th>\n",
       "      <th>converted</th>\n",
       "      <th>location</th>\n",
       "      <th>age_group</th>\n",
       "      <th>user_type</th>\n",
       "    </tr>\n",
       "  </thead>\n",
       "  <tbody>\n",
       "    <tr>\n",
       "      <th>0</th>\n",
       "      <td>9109b0dc-d393-497f-8d63-ba9a25dd16b4</td>\n",
       "      <td>2022-05-21 22:11:48.556739</td>\n",
       "      <td>control</td>\n",
       "      <td>standard</td>\n",
       "      <td>0</td>\n",
       "      <td>United Kingdom</td>\n",
       "      <td>18-25</td>\n",
       "      <td>registered_user</td>\n",
       "    </tr>\n",
       "    <tr>\n",
       "      <th>1</th>\n",
       "      <td>2430c3d2-f75b-4b31-8271-51b6a76c2652</td>\n",
       "      <td>2022-05-12 08:01:45.159739</td>\n",
       "      <td>control</td>\n",
       "      <td>standard</td>\n",
       "      <td>0</td>\n",
       "      <td>United Kingdom</td>\n",
       "      <td>42-49</td>\n",
       "      <td>registered_user</td>\n",
       "    </tr>\n",
       "    <tr>\n",
       "      <th>2</th>\n",
       "      <td>44788c4e-8dd2-4fad-b986-75e76f4adb64</td>\n",
       "      <td>2022-05-11 16:55:06.154213</td>\n",
       "      <td>treatment</td>\n",
       "      <td>svm_ensemble_v_1_22</td>\n",
       "      <td>0</td>\n",
       "      <td>United Kingdom</td>\n",
       "      <td>26-33</td>\n",
       "      <td>new_user</td>\n",
       "    </tr>\n",
       "    <tr>\n",
       "      <th>3</th>\n",
       "      <td>4699a417-506d-41b8-a354-6af6ad576963</td>\n",
       "      <td>2022-05-08 18:28:03.143765</td>\n",
       "      <td>treatment</td>\n",
       "      <td>svm_ensemble_v_1_22</td>\n",
       "      <td>0</td>\n",
       "      <td>United Kingdom</td>\n",
       "      <td>42-49</td>\n",
       "      <td>registered_user</td>\n",
       "    </tr>\n",
       "    <tr>\n",
       "      <th>4</th>\n",
       "      <td>304b0d28-bcdf-401a-9dff-66230d3ba0bc</td>\n",
       "      <td>2022-05-21 01:52:26.210827</td>\n",
       "      <td>control</td>\n",
       "      <td>standard</td>\n",
       "      <td>1</td>\n",
       "      <td>United Kingdom</td>\n",
       "      <td>42-49</td>\n",
       "      <td>registered_user</td>\n",
       "    </tr>\n",
       "    <tr>\n",
       "      <th>5</th>\n",
       "      <td>426f77eb-8739-43b6-999c-aecd14d9f346</td>\n",
       "      <td>2022-05-10 15:20:49.083499</td>\n",
       "      <td>control</td>\n",
       "      <td>standard</td>\n",
       "      <td>0</td>\n",
       "      <td>United Kingdom</td>\n",
       "      <td>42-49</td>\n",
       "      <td>registered_user</td>\n",
       "    </tr>\n",
       "    <tr>\n",
       "      <th>6</th>\n",
       "      <td>aa9d93c5-a18f-444a-a522-7e7145835362</td>\n",
       "      <td>2022-05-19 03:26:46.940749</td>\n",
       "      <td>treatment</td>\n",
       "      <td>svm_ensemble_v_1_22</td>\n",
       "      <td>1</td>\n",
       "      <td>United Kingdom</td>\n",
       "      <td>26-33</td>\n",
       "      <td>registered_user</td>\n",
       "    </tr>\n",
       "    <tr>\n",
       "      <th>7</th>\n",
       "      <td>de214e30-9b8d-44cf-87b1-16917f3e1c89</td>\n",
       "      <td>2022-05-17 01:48:29.539573</td>\n",
       "      <td>control</td>\n",
       "      <td>standard</td>\n",
       "      <td>0</td>\n",
       "      <td>United Kingdom</td>\n",
       "      <td>18-25</td>\n",
       "      <td>registered_user</td>\n",
       "    </tr>\n",
       "    <tr>\n",
       "      <th>8</th>\n",
       "      <td>070f398e-e6bf-43e7-88bb-37eff2cb9212</td>\n",
       "      <td>2022-05-04 17:58:08.979471</td>\n",
       "      <td>treatment</td>\n",
       "      <td>svm_ensemble_v_1_22</td>\n",
       "      <td>1</td>\n",
       "      <td>United Kingdom</td>\n",
       "      <td>18-25</td>\n",
       "      <td>new_user</td>\n",
       "    </tr>\n",
       "    <tr>\n",
       "      <th>9</th>\n",
       "      <td>9cff0b7e-d42b-4508-9fbe-a4e74f7f29c5</td>\n",
       "      <td>2022-05-15 18:11:06.610965</td>\n",
       "      <td>treatment</td>\n",
       "      <td>svm_ensemble_v_1_22</td>\n",
       "      <td>1</td>\n",
       "      <td>United Kingdom</td>\n",
       "      <td>26-33</td>\n",
       "      <td>new_user</td>\n",
       "    </tr>\n",
       "  </tbody>\n",
       "</table>\n",
       "</div>"
      ],
      "text/plain": [
       "                                user_id                   timestamp  \\\n",
       "0  9109b0dc-d393-497f-8d63-ba9a25dd16b4  2022-05-21 22:11:48.556739   \n",
       "1  2430c3d2-f75b-4b31-8271-51b6a76c2652  2022-05-12 08:01:45.159739   \n",
       "2  44788c4e-8dd2-4fad-b986-75e76f4adb64  2022-05-11 16:55:06.154213   \n",
       "3  4699a417-506d-41b8-a354-6af6ad576963  2022-05-08 18:28:03.143765   \n",
       "4  304b0d28-bcdf-401a-9dff-66230d3ba0bc  2022-05-21 01:52:26.210827   \n",
       "5  426f77eb-8739-43b6-999c-aecd14d9f346  2022-05-10 15:20:49.083499   \n",
       "6  aa9d93c5-a18f-444a-a522-7e7145835362  2022-05-19 03:26:46.940749   \n",
       "7  de214e30-9b8d-44cf-87b1-16917f3e1c89  2022-05-17 01:48:29.539573   \n",
       "8  070f398e-e6bf-43e7-88bb-37eff2cb9212  2022-05-04 17:58:08.979471   \n",
       "9  9cff0b7e-d42b-4508-9fbe-a4e74f7f29c5  2022-05-15 18:11:06.610965   \n",
       "\n",
       "       group             variants  converted        location age_group  \\\n",
       "0    control             standard          0  United Kingdom     18-25   \n",
       "1    control             standard          0  United Kingdom     42-49   \n",
       "2  treatment  svm_ensemble_v_1_22          0  United Kingdom     26-33   \n",
       "3  treatment  svm_ensemble_v_1_22          0  United Kingdom     42-49   \n",
       "4    control             standard          1  United Kingdom     42-49   \n",
       "5    control             standard          0  United Kingdom     42-49   \n",
       "6  treatment  svm_ensemble_v_1_22          1  United Kingdom     26-33   \n",
       "7    control             standard          0  United Kingdom     18-25   \n",
       "8  treatment  svm_ensemble_v_1_22          1  United Kingdom     18-25   \n",
       "9  treatment  svm_ensemble_v_1_22          1  United Kingdom     26-33   \n",
       "\n",
       "         user_type  \n",
       "0  registered_user  \n",
       "1  registered_user  \n",
       "2         new_user  \n",
       "3  registered_user  \n",
       "4  registered_user  \n",
       "5  registered_user  \n",
       "6  registered_user  \n",
       "7  registered_user  \n",
       "8         new_user  \n",
       "9         new_user  "
      ]
     },
     "execution_count": 2,
     "metadata": {},
     "output_type": "execute_result"
    }
   ],
   "source": [
    "import numpy as np\n",
    "import pandas as pd\n",
    "import scipy.stats as stats\n",
    "import statsmodels.stats.api as sms\n",
    "import matplotlib as mpl\n",
    "import matplotlib.pyplot as plt\n",
    "import seaborn as sns\n",
    "from math import ceil\n",
    "\n",
    "# Настройки отображения графиков\n",
    "%matplotlib inline\n",
    "# Use Seaborn to set the style\n",
    "sns.set_style('whitegrid')\n",
    "\n",
    "font = {'family': 'sans-serif',\n",
    "        'weight': 'bold',\n",
    "        'size': 14}\n",
    "mpl.rc('font', **font)\n",
    "\n",
    "# Считаем размер эффекта\n",
    "effect_size = sms.proportion_effectsize(0.13, 0.15)\n",
    "\n",
    "# Считаем необходимый размер выборки\n",
    "required_n = sms.NormalIndPower().solve_power(effect_size, power=0.8, alpha=0.05, ratio=1)\n",
    "# Округляем до ближайшего целого\n",
    "required_n = ceil(required_n)\n",
    "print(\"Для каждой группы нам необходимо не меньше \", required_n, \" наблюдений\")\n",
    "\n",
    "# Загрузка данных\n",
    "df = pd.read_csv('C:/Users/epg_F/ab_test_ensembles.csv')\n",
    "df.head(10)"
   ]
  },
  {
   "cell_type": "code",
   "execution_count": 4,
   "metadata": {},
   "outputs": [
    {
     "name": "stdout",
     "output_type": "stream",
     "text": [
      "<class 'pandas.core.frame.DataFrame'>\n",
      "RangeIndex: 294478 entries, 0 to 294477\n",
      "Data columns (total 8 columns):\n",
      " #   Column     Non-Null Count   Dtype \n",
      "---  ------     --------------   ----- \n",
      " 0   user_id    294478 non-null  object\n",
      " 1   timestamp  294478 non-null  object\n",
      " 2   group      294478 non-null  object\n",
      " 3   variants   294478 non-null  object\n",
      " 4   converted  294478 non-null  int64 \n",
      " 5   location   294478 non-null  object\n",
      " 6   age_group  294478 non-null  object\n",
      " 7   user_type  294478 non-null  object\n",
      "dtypes: int64(1), object(7)\n",
      "memory usage: 18.0+ MB\n"
     ]
    }
   ],
   "source": [
    "df.info()"
   ]
  },
  {
   "cell_type": "code",
   "execution_count": 6,
   "metadata": {},
   "outputs": [
    {
     "data": {
      "text/html": [
       "<div>\n",
       "<style scoped>\n",
       "    .dataframe tbody tr th:only-of-type {\n",
       "        vertical-align: middle;\n",
       "    }\n",
       "\n",
       "    .dataframe tbody tr th {\n",
       "        vertical-align: top;\n",
       "    }\n",
       "\n",
       "    .dataframe thead th {\n",
       "        text-align: right;\n",
       "    }\n",
       "</style>\n",
       "<table border=\"1\" class=\"dataframe\">\n",
       "  <thead>\n",
       "    <tr style=\"text-align: right;\">\n",
       "      <th>variants</th>\n",
       "      <th>standard</th>\n",
       "      <th>svm_ensemble_v_1_22</th>\n",
       "    </tr>\n",
       "    <tr>\n",
       "      <th>group</th>\n",
       "      <th></th>\n",
       "      <th></th>\n",
       "    </tr>\n",
       "  </thead>\n",
       "  <tbody>\n",
       "    <tr>\n",
       "      <th>control</th>\n",
       "      <td>145274</td>\n",
       "      <td>1928</td>\n",
       "    </tr>\n",
       "    <tr>\n",
       "      <th>treatment</th>\n",
       "      <td>1965</td>\n",
       "      <td>145311</td>\n",
       "    </tr>\n",
       "  </tbody>\n",
       "</table>\n",
       "</div>"
      ],
      "text/plain": [
       "variants   standard  svm_ensemble_v_1_22\n",
       "group                                   \n",
       "control      145274                 1928\n",
       "treatment      1965               145311"
      ]
     },
     "execution_count": 6,
     "metadata": {},
     "output_type": "execute_result"
    }
   ],
   "source": [
    "# Убедимся, что контрольная группа и испытуемая видят старую страницу и новую -> https://pandas.pydata.org/docs/reference/api/pandas.crosstab.html\n",
    "pd.crosstab(df['group'], df['variants'])"
   ]
  },
  {
   "cell_type": "code",
   "execution_count": 8,
   "metadata": {},
   "outputs": [
    {
     "name": "stdout",
     "output_type": "stream",
     "text": [
      "У нас имеются 0 пользователей, которые не уникальны в нашей выборке.\n"
     ]
    }
   ],
   "source": [
    "sessions = df['user_id'].value_counts(ascending=False)\n",
    "duplicate_users = sessions[sessions > 1].count()\n",
    "print(f\"У нас имеются {duplicate_users} пользователей, которые не уникальны в нашей выборке.\")"
   ]
  },
  {
   "cell_type": "code",
   "execution_count": 10,
   "metadata": {},
   "outputs": [
    {
     "name": "stdout",
     "output_type": "stream",
     "text": [
      "Количество пользователей без дубликтов 294478\n"
     ]
    }
   ],
   "source": [
    "users_to_drop = sessions[sessions > 1].index\n",
    "# Проверяем вхождения, знак ~ логическо нет\n",
    "df = df[~df['user_id'].isin(users_to_drop)]\n",
    "print(f\"Количество пользователей без дубликтов {df.shape[0]}\")"
   ]
  },
  {
   "cell_type": "code",
   "execution_count": 12,
   "metadata": {},
   "outputs": [
    {
     "data": {
      "text/html": [
       "<div>\n",
       "<style scoped>\n",
       "    .dataframe tbody tr th:only-of-type {\n",
       "        vertical-align: middle;\n",
       "    }\n",
       "\n",
       "    .dataframe tbody tr th {\n",
       "        vertical-align: top;\n",
       "    }\n",
       "\n",
       "    .dataframe thead th {\n",
       "        text-align: right;\n",
       "    }\n",
       "</style>\n",
       "<table border=\"1\" class=\"dataframe\">\n",
       "  <thead>\n",
       "    <tr style=\"text-align: right;\">\n",
       "      <th></th>\n",
       "      <th>user_id</th>\n",
       "      <th>timestamp</th>\n",
       "      <th>group</th>\n",
       "      <th>variants</th>\n",
       "      <th>converted</th>\n",
       "      <th>location</th>\n",
       "      <th>age_group</th>\n",
       "      <th>user_type</th>\n",
       "    </tr>\n",
       "  </thead>\n",
       "  <tbody>\n",
       "    <tr>\n",
       "      <th>0</th>\n",
       "      <td>bcf8452b-3056-4d45-994f-5f286fd9869a</td>\n",
       "      <td>2022-05-18 04:44:18.590293</td>\n",
       "      <td>control</td>\n",
       "      <td>standard</td>\n",
       "      <td>0</td>\n",
       "      <td>United Kingdom</td>\n",
       "      <td>42-49</td>\n",
       "      <td>new_user</td>\n",
       "    </tr>\n",
       "    <tr>\n",
       "      <th>1</th>\n",
       "      <td>3c827a98-0868-4ce5-ac31-8195e243af37</td>\n",
       "      <td>2022-05-14 05:22:43.771772</td>\n",
       "      <td>control</td>\n",
       "      <td>standard</td>\n",
       "      <td>0</td>\n",
       "      <td>United Kingdom</td>\n",
       "      <td>50-57</td>\n",
       "      <td>new_user</td>\n",
       "    </tr>\n",
       "    <tr>\n",
       "      <th>2</th>\n",
       "      <td>71c72bb9-13d9-4755-b398-b2c5d8b1c4d6</td>\n",
       "      <td>2022-05-23 08:52:53.050325</td>\n",
       "      <td>control</td>\n",
       "      <td>standard</td>\n",
       "      <td>0</td>\n",
       "      <td>United Kingdom</td>\n",
       "      <td>34-41</td>\n",
       "      <td>new_user</td>\n",
       "    </tr>\n",
       "    <tr>\n",
       "      <th>3</th>\n",
       "      <td>654ee878-b0c5-4223-b9fb-995ca3d2eaf1</td>\n",
       "      <td>2022-05-07 23:27:09.109877</td>\n",
       "      <td>control</td>\n",
       "      <td>standard</td>\n",
       "      <td>0</td>\n",
       "      <td>United Kingdom</td>\n",
       "      <td>26-33</td>\n",
       "      <td>registered_user</td>\n",
       "    </tr>\n",
       "    <tr>\n",
       "      <th>4</th>\n",
       "      <td>1e044366-7e86-4d92-bba7-3afaa6f887f8</td>\n",
       "      <td>2022-05-20 14:26:10.133979</td>\n",
       "      <td>control</td>\n",
       "      <td>standard</td>\n",
       "      <td>0</td>\n",
       "      <td>United Kingdom</td>\n",
       "      <td>42-49</td>\n",
       "      <td>new_user</td>\n",
       "    </tr>\n",
       "  </tbody>\n",
       "</table>\n",
       "</div>"
      ],
      "text/plain": [
       "                                user_id                   timestamp    group  \\\n",
       "0  bcf8452b-3056-4d45-994f-5f286fd9869a  2022-05-18 04:44:18.590293  control   \n",
       "1  3c827a98-0868-4ce5-ac31-8195e243af37  2022-05-14 05:22:43.771772  control   \n",
       "2  71c72bb9-13d9-4755-b398-b2c5d8b1c4d6  2022-05-23 08:52:53.050325  control   \n",
       "3  654ee878-b0c5-4223-b9fb-995ca3d2eaf1  2022-05-07 23:27:09.109877  control   \n",
       "4  1e044366-7e86-4d92-bba7-3afaa6f887f8  2022-05-20 14:26:10.133979  control   \n",
       "\n",
       "   variants  converted        location age_group        user_type  \n",
       "0  standard          0  United Kingdom     42-49         new_user  \n",
       "1  standard          0  United Kingdom     50-57         new_user  \n",
       "2  standard          0  United Kingdom     34-41         new_user  \n",
       "3  standard          0  United Kingdom     26-33  registered_user  \n",
       "4  standard          0  United Kingdom     42-49         new_user  "
      ]
     },
     "execution_count": 12,
     "metadata": {},
     "output_type": "execute_result"
    }
   ],
   "source": [
    "control_sample = df[df['group'] == 'control'].sample(n = required_n, random_state=42)\n",
    "treatment_sample = df[df['group'] == 'treatment'].sample(n = required_n, random_state=42)\n",
    "\n",
    "# Сформируем общую случайную выборку\n",
    "ab_df = pd.concat([control_sample, treatment_sample], axis=0)\n",
    "ab_df.reset_index(drop=True, inplace=True)\n",
    "ab_df.head()"
   ]
  },
  {
   "cell_type": "code",
   "execution_count": 14,
   "metadata": {},
   "outputs": [
    {
     "name": "stdout",
     "output_type": "stream",
     "text": [
      "<class 'pandas.core.frame.DataFrame'>\n",
      "RangeIndex: 9440 entries, 0 to 9439\n",
      "Data columns (total 8 columns):\n",
      " #   Column     Non-Null Count  Dtype \n",
      "---  ------     --------------  ----- \n",
      " 0   user_id    9440 non-null   object\n",
      " 1   timestamp  9440 non-null   object\n",
      " 2   group      9440 non-null   object\n",
      " 3   variants   9440 non-null   object\n",
      " 4   converted  9440 non-null   int64 \n",
      " 5   location   9440 non-null   object\n",
      " 6   age_group  9440 non-null   object\n",
      " 7   user_type  9440 non-null   object\n",
      "dtypes: int64(1), object(7)\n",
      "memory usage: 590.1+ KB\n"
     ]
    }
   ],
   "source": [
    "ab_df.info()"
   ]
  },
  {
   "cell_type": "code",
   "execution_count": 16,
   "metadata": {},
   "outputs": [
    {
     "data": {
      "text/plain": [
       "group\n",
       "control      0.5\n",
       "treatment    0.5\n",
       "Name: proportion, dtype: float64"
      ]
     },
     "execution_count": 16,
     "metadata": {},
     "output_type": "execute_result"
    }
   ],
   "source": [
    "ab_df.group.value_counts(normalize=True)"
   ]
  },
  {
   "cell_type": "code",
   "execution_count": 18,
   "metadata": {},
   "outputs": [
    {
     "data": {
      "text/html": [
       "<div>\n",
       "<style scoped>\n",
       "    .dataframe tbody tr th:only-of-type {\n",
       "        vertical-align: middle;\n",
       "    }\n",
       "\n",
       "    .dataframe tbody tr th {\n",
       "        vertical-align: top;\n",
       "    }\n",
       "\n",
       "    .dataframe thead th {\n",
       "        text-align: right;\n",
       "    }\n",
       "</style>\n",
       "<table border=\"1\" class=\"dataframe\">\n",
       "  <thead>\n",
       "    <tr style=\"text-align: right;\">\n",
       "      <th></th>\n",
       "      <th>CR mean</th>\n",
       "      <th>CR std</th>\n",
       "      <th>CR se</th>\n",
       "    </tr>\n",
       "    <tr>\n",
       "      <th>group</th>\n",
       "      <th></th>\n",
       "      <th></th>\n",
       "      <th></th>\n",
       "    </tr>\n",
       "  </thead>\n",
       "  <tbody>\n",
       "    <tr>\n",
       "      <th>control</th>\n",
       "      <td>0.132415</td>\n",
       "      <td>0.338978</td>\n",
       "      <td>0.004934</td>\n",
       "    </tr>\n",
       "    <tr>\n",
       "      <th>treatment</th>\n",
       "      <td>0.119915</td>\n",
       "      <td>0.324897</td>\n",
       "      <td>0.004729</td>\n",
       "    </tr>\n",
       "  </tbody>\n",
       "</table>\n",
       "</div>"
      ],
      "text/plain": [
       "            CR mean    CR std     CR se\n",
       "group                                  \n",
       "control    0.132415  0.338978  0.004934\n",
       "treatment  0.119915  0.324897  0.004729"
      ]
     },
     "execution_count": 18,
     "metadata": {},
     "output_type": "execute_result"
    }
   ],
   "source": [
    "conversion_rates = ab_df.groupby('group')['converted']\n",
    "\n",
    "# Стандартное отклонение для сформированной выборки\n",
    "std_proportion = 'std'  # Use the string 'std' for standard deviation\n",
    "# Стандартная ошибка для сформированной выборки\n",
    "se_proportion = stats.sem  # Use the scipy function directly\n",
    "\n",
    "# Aggregate the conversion rates\n",
    "conversion_rates = conversion_rates.agg(['mean', std_proportion, se_proportion]).rename(\n",
    "    columns={'mean': 'CR mean', 'std': 'CR std', 'sem': 'CR se'}\n",
    ")\n",
    "\n",
    "conversion_rates"
   ]
  },
  {
   "cell_type": "code",
   "execution_count": 42,
   "metadata": {},
   "outputs": [
    {
     "data": {
      "image/png": "[encoded data removed]",
      "text/plain": [
       "<Figure size 400x400 with 1 Axes>"
      ]
     },
     "metadata": {},
     "output_type": "display_data"
    }
   ],
   "source": [
    "#plt.figure(figsize=(8,6));\n",
    "#sns.barplot(x=ab_df['group'], y=ab_df['converted'], ci=False);\n",
    "#plt.ylim(0, 0.17);\n",
    "#plt.title('Conversion rate by experimental samples', pad=20)\n",
    "#plt.xlabel('Group', labelpad=15);\n",
    "#plt.ylabel('Converted (proportion)', labelpad=15);\n",
    "\n",
    "\n",
    "plt.figure(figsize=(4, 4))\n",
    "sns.barplot(x='group', y='converted', data=ab_df, errorbar=('ci', False))\n",
    "plt.ylim(0, 0.17)\n",
    "plt.title('Conversion rate by experimental samples', pad=20)\n",
    "plt.xlabel('Group', labelpad=15)\n",
    "plt.ylabel('Converted (proportion)', labelpad=15)\n",
    "plt.show()"
   ]
  },
  {
   "cell_type": "code",
   "execution_count": 22,
   "metadata": {},
   "outputs": [
    {
     "name": "stdout",
     "output_type": "stream",
     "text": [
      "Z-statistic: 1.83\n",
      "p-value: 0.067\n",
      "CI 95% for control group: [0.123, 0.142]\n",
      "CI 95% for treatment group: [0.111, 0.129]\n"
     ]
    }
   ],
   "source": [
    "from statsmodels.stats.proportion import proportions_ztest, proportion_confint\n",
    "\n",
    "control_results = ab_df[ab_df['group'] == 'control']['converted']\n",
    "treatment_results = ab_df[ab_df['group'] == 'treatment']['converted']\n",
    "\n",
    "n_con = control_results.count()\n",
    "n_treat = treatment_results.count()\n",
    "successes = [control_results.sum(), treatment_results.sum()]\n",
    "nobs = [n_con, n_treat]\n",
    "\n",
    "z_stat, pval = proportions_ztest(successes, nobs=nobs)\n",
    "(lower_con, lower_treat), (upper_con, upper_treat) = proportion_confint(successes, nobs=nobs, alpha=0.05)\n",
    "\n",
    "print(f'Z-statistic: {z_stat:.2f}')\n",
    "print(f'p-value: {pval:.3f}')\n",
    "print(f'CI 95% for control group: [{lower_con:.3f}, {upper_con:.3f}]')\n",
    "print(f'CI 95% for treatment group: [{lower_treat:.3f}, {upper_treat:.3f}]')"
   ]
  },
  {
   "cell_type": "code",
   "execution_count": 39,
   "metadata": {},
   "outputs": [],
   "source": [
    "#P-value (0.067) выше 0.05, что говорит о том, что у нас нет достаточных оснований отклонить нулевую гипотезу. \n",
    "#Это означает, что между старым вариантом и новым (svm_ensemble_v_1_22) нет статистически значимой разницы.\n",
    "#При этом, Z-statistic (1.83) показывает, что разница существует, но она не является статистически значимой на уровне 0.05.\n",
    "\n",
    "#С учетом вышеизложенного, вы можете рассмотреть возможность оставить старый вариант работы, так как разница не является значительной.\n",
    "#Доверительный интервал для испытуемой группы [0.111, 0.129] или 11,1% и 12,9% соответственно. Он включает наш baseline и не достигает нашей цели 15%\n",
    "\n",
    "#С учетом вышеизложенного, оставляем старый вариант работы, так как разница не является значительной. "
   ]
  },
  {
   "cell_type": "code",
   "execution_count": null,
   "metadata": {},
   "outputs": [],
   "source": []
  },
  {
   "cell_type": "code",
   "execution_count": null,
   "metadata": {},
   "outputs": [],
   "source": []
  }
 ],
 "metadata": {
  "colab": {
   "provenance": []
  },
  "kernelspec": {
   "display_name": "Python 3 (ipykernel)",
   "language": "python",
   "name": "python3"
  },
  "language_info": {
   "codemirror_mode": {
    "name": "ipython",
    "version": 3
   },
   "file_extension": ".py",
   "mimetype": "text/x-python",
   "name": "python",
   "nbconvert_exporter": "python",
   "pygments_lexer": "ipython3",
   "version": "3.12.4"
  }
 },
 "nbformat": 4,
 "nbformat_minor": 4
}
